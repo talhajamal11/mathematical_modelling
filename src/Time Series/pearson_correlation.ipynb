{
 "cells": [
  {
   "cell_type": "code",
   "execution_count": 47,
   "metadata": {},
   "outputs": [],
   "source": [
    "import math\n",
    "import numpy as np \n",
    "from sklearn.feature_selection import r_regression"
   ]
  },
  {
   "cell_type": "code",
   "execution_count": 48,
   "metadata": {},
   "outputs": [],
   "source": [
    "line1 = \"Physics Scores  15  12  8   8   7   7   7   6   5   3\"\n",
    "line2 = \"History Scores  10  25  17  11  13  17  20  13  9   15\""
   ]
  },
  {
   "cell_type": "code",
   "execution_count": 49,
   "metadata": {},
   "outputs": [],
   "source": [
    "x = [int(num) for num in line1.split()[2:]]\n",
    "y = [int(num) for num in line2.split()[2:]]"
   ]
  },
  {
   "cell_type": "code",
   "execution_count": 50,
   "metadata": {},
   "outputs": [],
   "source": [
    "def mean(lst):\n",
    "    return sum(lst) / len(lst)"
   ]
  },
  {
   "cell_type": "code",
   "execution_count": 51,
   "metadata": {},
   "outputs": [],
   "source": [
    "def var(lst):\n",
    "    total = sum([(i - mean(lst))**2 for i in lst])\n",
    "    return total / len(lst)"
   ]
  },
  {
   "cell_type": "code",
   "execution_count": 52,
   "metadata": {},
   "outputs": [],
   "source": [
    "def cov(lst1, lst2):\n",
    "    l1m = mean(lst1)\n",
    "    l2m = mean(lst2)\n",
    "    total = sum([(l1 - l1m)*(l2 - l2m) for (l1, l2) in zip(lst1, lst2)])\n",
    "    return total / len(lst1)"
   ]
  },
  {
   "cell_type": "code",
   "execution_count": 53,
   "metadata": {},
   "outputs": [
    {
     "data": {
      "text/plain": [
       "0.14499815458068516"
      ]
     },
     "execution_count": 53,
     "metadata": {},
     "output_type": "execute_result"
    }
   ],
   "source": [
    "corr = cov(x, y) / (math.sqrt(var(x)) * math.sqrt(var(y)))\n",
    "corr "
   ]
  },
  {
   "cell_type": "code",
   "execution_count": 25,
   "metadata": {},
   "outputs": [
    {
     "name": "stdout",
     "output_type": "stream",
     "text": [
      "0.14499815458068516\n"
     ]
    }
   ],
   "source": [
    "sk_corr = r_regression(np.array(x).reshape(-1,1), np.array(y))\n",
    "print(sk_corr[0])"
   ]
  }
 ],
 "metadata": {
  "kernelspec": {
   "display_name": "Python 3",
   "language": "python",
   "name": "python3"
  },
  "language_info": {
   "codemirror_mode": {
    "name": "ipython",
    "version": 3
   },
   "file_extension": ".py",
   "mimetype": "text/x-python",
   "name": "python",
   "nbconvert_exporter": "python",
   "pygments_lexer": "ipython3",
   "version": "3.11.3"
  }
 },
 "nbformat": 4,
 "nbformat_minor": 2
}
