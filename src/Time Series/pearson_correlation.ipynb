{
 "cells": [
  {
   "cell_type": "code",
   "execution_count": 1,
   "metadata": {},
   "outputs": [],
   "source": [
    "import math"
   ]
  },
  {
   "cell_type": "code",
   "execution_count": 2,
   "metadata": {},
   "outputs": [],
   "source": [
    "line1 = \"Physics Scores  15  12  8   8   7   7   7   6   5   3\"\n",
    "line2 = \"History Scores  10  25  17  11  13  17  20  13  9   15\""
   ]
  },
  {
   "cell_type": "code",
   "execution_count": 5,
   "metadata": {},
   "outputs": [],
   "source": [
    "x = [int(num) for num in line1.split()[2:]]\n",
    "y = [int(num) for num in line2.split()[2:]]"
   ]
  },
  {
   "cell_type": "code",
   "execution_count": 6,
   "metadata": {},
   "outputs": [],
   "source": [
    "x_m = sum(x) / len(x)\n",
    "y_m = sum(y) / len(y)\n",
    "cov = sum([(xi - x_m)*(yi - y_m) for (xi, yi) in zip(x, y)])\n",
    "stdx = math.sqrt(sum([(xi - x_m)**2 for xi in x]))\n",
    "stdy = math.sqrt(sum([(yi - y_m)**2 for yi in y]))"
   ]
  },
  {
   "cell_type": "code",
   "execution_count": 7,
   "metadata": {},
   "outputs": [
    {
     "data": {
      "text/plain": [
       "21.999999999999996"
      ]
     },
     "execution_count": 7,
     "metadata": {},
     "output_type": "execute_result"
    }
   ],
   "source": [
    "r = cov / (stdx)*(stdx)\n",
    "r "
   ]
  }
 ],
 "metadata": {
  "kernelspec": {
   "display_name": "Python 3",
   "language": "python",
   "name": "python3"
  },
  "language_info": {
   "codemirror_mode": {
    "name": "ipython",
    "version": 3
   },
   "file_extension": ".py",
   "mimetype": "text/x-python",
   "name": "python",
   "nbconvert_exporter": "python",
   "pygments_lexer": "ipython3",
   "version": "3.11.3"
  }
 },
 "nbformat": 4,
 "nbformat_minor": 2
}
